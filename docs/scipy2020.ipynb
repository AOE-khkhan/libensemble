{
 "cells": [
  {
   "cell_type": "markdown",
   "metadata": {},
   "source": [
    "![title](images/libE_logo_smaller.png)\n",
    "\n",
    "\n",
    "# A Python Library for Dynamic Ensemble-Based Computations\n",
    "#### David Bindel, Stephen Hudson, Jeffrey Larson, John-Luke Navarro and Stefan Wild\n",
    "\n",
    "\n",
    "## Overview\n",
    "\n",
    "*libEnsemble* is a Python library for coordinating the concurrent evaluation of ensembles of computations. Designed with flexibility in mind, libEnsemble can utilize massively parallel resources to accelerate the solution of design, decision, and inference problems. libEnsemble aims for:\n",
    "\n",
    "* Extreme scaling\n",
    "* Fault tolerance\n",
    "* Launching and monitoring applications\n",
    "* Portability and flexibility\n",
    "* Exploitation of persistent data/control flow\n"
   ]
  },
  {
   "cell_type": "markdown",
   "metadata": {},
   "source": []
  }
 ],
 "metadata": {
  "kernelspec": {
   "display_name": "Python 3",
   "language": "python",
   "name": "python3"
  },
  "language_info": {
   "codemirror_mode": {
    "name": "ipython",
    "version": 3
   },
   "file_extension": ".py",
   "mimetype": "text/x-python",
   "name": "python",
   "nbconvert_exporter": "python",
   "pygments_lexer": "ipython3",
   "version": "3.6.0"
  }
 },
 "nbformat": 4,
 "nbformat_minor": 2
}
